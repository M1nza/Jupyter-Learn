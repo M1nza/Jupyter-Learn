{
 "cells": [
  {
   "cell_type": "markdown",
   "id": "4a80533c",
   "metadata": {},
   "source": [
    "# Student Data\n",
    "This notebook analyses pass and fail data for a class."
   ]
  },
  {
   "cell_type": "code",
   "execution_count": 278,
   "id": "8ccd0bb6",
   "metadata": {},
   "outputs": [
    {
     "name": "stdout",
     "output_type": "stream",
     "text": [
      "[50, 50, 47, 97, 49, 3, 53, 42, 26, 74, 82, 62, 37, 15, 70, 27, 36, 35, 48, 52, 63, 64, 0, 0]\n"
     ]
    }
   ],
   "source": [
    "data =[50, 50, 47, 97, 49, 3, 53, 42, 26, 74, 82, 62, 37, 15, 70, 27, 36, 35, 48, 52, 63, 64, 0, 0]\n",
    "print(data)"
   ]
  },
  {
   "cell_type": "code",
   "execution_count": 279,
   "id": "64393e87",
   "metadata": {},
   "outputs": [
    {
     "name": "stdout",
     "output_type": "stream",
     "text": [
      "[50 50 47 97 49  3 53 42 26 74 82 62 37 15 70 27 36 35 48 52 63 64  0  0]\n"
     ]
    }
   ],
   "source": [
    "import numpy as np\n",
    "grades = np.array(data)\n",
    "print(grades)"
   ]
  },
  {
   "cell_type": "code",
   "execution_count": 280,
   "id": "e26ee025",
   "metadata": {},
   "outputs": [
    {
     "data": {
      "text/plain": [
       "(24,)"
      ]
     },
     "execution_count": 280,
     "metadata": {},
     "output_type": "execute_result"
    }
   ],
   "source": [
    "grades.shape"
   ]
  },
  {
   "cell_type": "code",
   "execution_count": 281,
   "id": "32a01e36",
   "metadata": {},
   "outputs": [
    {
     "data": {
      "text/plain": [
       "np.float64(45.083333333333336)"
      ]
     },
     "execution_count": 281,
     "metadata": {},
     "output_type": "execute_result"
    }
   ],
   "source": [
    "grades.mean()"
   ]
  },
  {
   "cell_type": "code",
   "execution_count": 282,
   "id": "ed7fb855",
   "metadata": {},
   "outputs": [],
   "source": [
    "study_hours = [10, 11.5, 9, 16, 9.25, 1, 11.5, 9, 8.5, 14.5, 15.5, 13.75, 9, 8, 15.5, 8, 9, 6, 10, 12, 12.5, 12, 8, 0]\n",
    "student_data = np.array([study_hours, grades])"
   ]
  },
  {
   "cell_type": "code",
   "execution_count": 283,
   "id": "9f818cdb",
   "metadata": {},
   "outputs": [
    {
     "data": {
      "text/plain": [
       "np.float64(50.0)"
      ]
     },
     "execution_count": 283,
     "metadata": {},
     "output_type": "execute_result"
    }
   ],
   "source": [
    "student_data[1][0]"
   ]
  },
  {
   "cell_type": "code",
   "execution_count": 284,
   "id": "a80002a1",
   "metadata": {},
   "outputs": [
    {
     "name": "stdout",
     "output_type": "stream",
     "text": [
      "Average Study Time: 9.979166666666666\n",
      "Average Grade: 45.083333333333336\n"
     ]
    }
   ],
   "source": [
    "avg_study = student_data[0].mean()\n",
    "avg_grade = student_data[1].mean()\n",
    "print(f'Average Study Time: {avg_study}\\nAverage Grade: {avg_grade}')"
   ]
  },
  {
   "cell_type": "code",
   "execution_count": 285,
   "id": "29f6bb87",
   "metadata": {},
   "outputs": [
    {
     "name": "stdout",
     "output_type": "stream",
     "text": [
      "         Name  StudyHours  Grade\n",
      "0         Dan       10.00   50.0\n",
      "1       Joann       11.50   50.0\n",
      "2       Pedro        9.00   47.0\n",
      "3       Rosie       16.00   97.0\n",
      "4       Ethan        9.25   49.0\n",
      "5       Vicky        1.00    3.0\n",
      "6    Frederic       11.50   53.0\n",
      "7      Jimmie        9.00   42.0\n",
      "8      Rhonda        8.50   26.0\n",
      "9    Giovanni       14.50   74.0\n",
      "10  Francesca       15.50   82.0\n",
      "11      Rajab       13.75   62.0\n",
      "12    Naiyana        9.00   37.0\n",
      "13       Kian        8.00   15.0\n",
      "14      Jenny       15.50   70.0\n",
      "15     Jakeem        8.00   27.0\n",
      "16     Helena        9.00   36.0\n",
      "17      Ismat        6.00   35.0\n",
      "18      Anila       10.00   48.0\n",
      "19       Skye       12.00   52.0\n",
      "20     Daniel       12.50   63.0\n",
      "21      Aisha       12.00   64.0\n",
      "22       Bill        8.00    0.0\n",
      "23        Ted        0.00    0.0\n"
     ]
    }
   ],
   "source": [
    "import pandas as pd\n",
    "df_students = pd.DataFrame({'Name': ['Dan', 'Joann', 'Pedro', 'Rosie', 'Ethan', 'Vicky', 'Frederic', 'Jimmie', 'Rhonda',\n",
    " 'Giovanni', 'Francesca', 'Rajab', 'Naiyana', 'Kian', 'Jenny', 'Jakeem', 'Helena', 'Ismat', 'Anila', 'Skye', 'Daniel',\n",
    " 'Aisha', 'Bill', 'Ted'], 'StudyHours': student_data[0], 'Grade': student_data[1]})\n",
    "print(df_students)"
   ]
  },
  {
   "cell_type": "code",
   "execution_count": 286,
   "id": "52c6fa8f",
   "metadata": {},
   "outputs": [
    {
     "data": {
      "application/vnd.microsoft.datawrangler.viewer.v0+json": {
       "columns": [
        {
         "name": "index",
         "rawType": "int64",
         "type": "integer"
        },
        {
         "name": "Name",
         "rawType": "object",
         "type": "string"
        },
        {
         "name": "StudyHours",
         "rawType": "float64",
         "type": "float"
        },
        {
         "name": "Grade",
         "rawType": "float64",
         "type": "float"
        }
       ],
       "ref": "6ea9e9d2-8345-4ea8-86c0-7371bec06df7",
       "rows": [
        [
         "0",
         "Dan",
         "10.0",
         "50.0"
        ]
       ],
       "shape": {
        "columns": 3,
        "rows": 1
       }
      },
      "text/html": [
       "<div>\n",
       "<style scoped>\n",
       "    .dataframe tbody tr th:only-of-type {\n",
       "        vertical-align: middle;\n",
       "    }\n",
       "\n",
       "    .dataframe tbody tr th {\n",
       "        vertical-align: top;\n",
       "    }\n",
       "\n",
       "    .dataframe thead th {\n",
       "        text-align: right;\n",
       "    }\n",
       "</style>\n",
       "<table border=\"1\" class=\"dataframe\">\n",
       "  <thead>\n",
       "    <tr style=\"text-align: right;\">\n",
       "      <th></th>\n",
       "      <th>Name</th>\n",
       "      <th>StudyHours</th>\n",
       "      <th>Grade</th>\n",
       "    </tr>\n",
       "  </thead>\n",
       "  <tbody>\n",
       "    <tr>\n",
       "      <th>0</th>\n",
       "      <td>Dan</td>\n",
       "      <td>10.0</td>\n",
       "      <td>50.0</td>\n",
       "    </tr>\n",
       "  </tbody>\n",
       "</table>\n",
       "</div>"
      ],
      "text/plain": [
       "  Name  StudyHours  Grade\n",
       "0  Dan        10.0   50.0"
      ]
     },
     "execution_count": 286,
     "metadata": {},
     "output_type": "execute_result"
    }
   ],
   "source": [
    "df_students[df_students.Name==\"Dan\"]"
   ]
  },
  {
   "cell_type": "code",
   "execution_count": 287,
   "id": "72c158fd",
   "metadata": {},
   "outputs": [],
   "source": [
    "url = \"https://raw.githubusercontent.com/M1nza/Jupyter-Learn/refs/heads/main/grades.csv\"\n",
    "df_students = pd.read_csv(url)"
   ]
  },
  {
   "cell_type": "code",
   "execution_count": 288,
   "id": "74803397",
   "metadata": {},
   "outputs": [
    {
     "data": {
      "application/vnd.microsoft.datawrangler.viewer.v0+json": {
       "columns": [
        {
         "name": "index",
         "rawType": "int64",
         "type": "integer"
        },
        {
         "name": "Name",
         "rawType": "object",
         "type": "string"
        },
        {
         "name": "StudyHours",
         "rawType": "float64",
         "type": "float"
        },
        {
         "name": "Grade",
         "rawType": "float64",
         "type": "float"
        }
       ],
       "ref": "0cfd0f8d-418f-49bb-b99d-3c8e53a96ea6",
       "rows": [
        [
         "0",
         "Dan",
         "10.0",
         "50.0"
        ],
        [
         "1",
         "Joann",
         "11.5",
         "50.0"
        ],
        [
         "2",
         "Pedro",
         "9.0",
         "47.0"
        ],
        [
         "3",
         "Rosie",
         "16.0",
         "97.0"
        ],
        [
         "4",
         "Ethan",
         "9.25",
         "49.0"
        ],
        [
         "5",
         "Vicky",
         "1.0",
         "3.0"
        ],
        [
         "6",
         "Frederic",
         "11.5",
         "53.0"
        ],
        [
         "7",
         "Jimmie",
         "9.0",
         "42.0"
        ],
        [
         "8",
         "Rhonda",
         "8.5",
         "26.0"
        ],
        [
         "9",
         "Giovanni",
         "14.5",
         "74.0"
        ],
        [
         "10",
         "Francesca",
         "15.5",
         "82.0"
        ],
        [
         "11",
         "Rajab",
         "13.75",
         "62.0"
        ],
        [
         "12",
         "Naiyana",
         "9.0",
         "37.0"
        ],
        [
         "13",
         "Kian",
         "8.0",
         "15.0"
        ],
        [
         "14",
         "Jenny",
         "15.5",
         "70.0"
        ],
        [
         "15",
         "Jakeem",
         "8.0",
         "27.0"
        ],
        [
         "16",
         "Helena",
         "9.0",
         "36.0"
        ],
        [
         "17",
         "Ismat",
         "6.0",
         "35.0"
        ],
        [
         "18",
         "Anila",
         "10.0",
         "48.0"
        ],
        [
         "19",
         "Skye",
         "12.0",
         "52.0"
        ],
        [
         "20",
         "Daniel",
         "12.5",
         "63.0"
        ],
        [
         "21",
         "Aisha",
         "12.0",
         "64.0"
        ],
        [
         "22",
         "Bill",
         "8.0",
         null
        ],
        [
         "23",
         "Ted",
         null,
         null
        ]
       ],
       "shape": {
        "columns": 3,
        "rows": 24
       }
      },
      "text/html": [
       "<div>\n",
       "<style scoped>\n",
       "    .dataframe tbody tr th:only-of-type {\n",
       "        vertical-align: middle;\n",
       "    }\n",
       "\n",
       "    .dataframe tbody tr th {\n",
       "        vertical-align: top;\n",
       "    }\n",
       "\n",
       "    .dataframe thead th {\n",
       "        text-align: right;\n",
       "    }\n",
       "</style>\n",
       "<table border=\"1\" class=\"dataframe\">\n",
       "  <thead>\n",
       "    <tr style=\"text-align: right;\">\n",
       "      <th></th>\n",
       "      <th>Name</th>\n",
       "      <th>StudyHours</th>\n",
       "      <th>Grade</th>\n",
       "    </tr>\n",
       "  </thead>\n",
       "  <tbody>\n",
       "    <tr>\n",
       "      <th>0</th>\n",
       "      <td>Dan</td>\n",
       "      <td>10.00</td>\n",
       "      <td>50.0</td>\n",
       "    </tr>\n",
       "    <tr>\n",
       "      <th>1</th>\n",
       "      <td>Joann</td>\n",
       "      <td>11.50</td>\n",
       "      <td>50.0</td>\n",
       "    </tr>\n",
       "    <tr>\n",
       "      <th>2</th>\n",
       "      <td>Pedro</td>\n",
       "      <td>9.00</td>\n",
       "      <td>47.0</td>\n",
       "    </tr>\n",
       "    <tr>\n",
       "      <th>3</th>\n",
       "      <td>Rosie</td>\n",
       "      <td>16.00</td>\n",
       "      <td>97.0</td>\n",
       "    </tr>\n",
       "    <tr>\n",
       "      <th>4</th>\n",
       "      <td>Ethan</td>\n",
       "      <td>9.25</td>\n",
       "      <td>49.0</td>\n",
       "    </tr>\n",
       "    <tr>\n",
       "      <th>5</th>\n",
       "      <td>Vicky</td>\n",
       "      <td>1.00</td>\n",
       "      <td>3.0</td>\n",
       "    </tr>\n",
       "    <tr>\n",
       "      <th>6</th>\n",
       "      <td>Frederic</td>\n",
       "      <td>11.50</td>\n",
       "      <td>53.0</td>\n",
       "    </tr>\n",
       "    <tr>\n",
       "      <th>7</th>\n",
       "      <td>Jimmie</td>\n",
       "      <td>9.00</td>\n",
       "      <td>42.0</td>\n",
       "    </tr>\n",
       "    <tr>\n",
       "      <th>8</th>\n",
       "      <td>Rhonda</td>\n",
       "      <td>8.50</td>\n",
       "      <td>26.0</td>\n",
       "    </tr>\n",
       "    <tr>\n",
       "      <th>9</th>\n",
       "      <td>Giovanni</td>\n",
       "      <td>14.50</td>\n",
       "      <td>74.0</td>\n",
       "    </tr>\n",
       "    <tr>\n",
       "      <th>10</th>\n",
       "      <td>Francesca</td>\n",
       "      <td>15.50</td>\n",
       "      <td>82.0</td>\n",
       "    </tr>\n",
       "    <tr>\n",
       "      <th>11</th>\n",
       "      <td>Rajab</td>\n",
       "      <td>13.75</td>\n",
       "      <td>62.0</td>\n",
       "    </tr>\n",
       "    <tr>\n",
       "      <th>12</th>\n",
       "      <td>Naiyana</td>\n",
       "      <td>9.00</td>\n",
       "      <td>37.0</td>\n",
       "    </tr>\n",
       "    <tr>\n",
       "      <th>13</th>\n",
       "      <td>Kian</td>\n",
       "      <td>8.00</td>\n",
       "      <td>15.0</td>\n",
       "    </tr>\n",
       "    <tr>\n",
       "      <th>14</th>\n",
       "      <td>Jenny</td>\n",
       "      <td>15.50</td>\n",
       "      <td>70.0</td>\n",
       "    </tr>\n",
       "    <tr>\n",
       "      <th>15</th>\n",
       "      <td>Jakeem</td>\n",
       "      <td>8.00</td>\n",
       "      <td>27.0</td>\n",
       "    </tr>\n",
       "    <tr>\n",
       "      <th>16</th>\n",
       "      <td>Helena</td>\n",
       "      <td>9.00</td>\n",
       "      <td>36.0</td>\n",
       "    </tr>\n",
       "    <tr>\n",
       "      <th>17</th>\n",
       "      <td>Ismat</td>\n",
       "      <td>6.00</td>\n",
       "      <td>35.0</td>\n",
       "    </tr>\n",
       "    <tr>\n",
       "      <th>18</th>\n",
       "      <td>Anila</td>\n",
       "      <td>10.00</td>\n",
       "      <td>48.0</td>\n",
       "    </tr>\n",
       "    <tr>\n",
       "      <th>19</th>\n",
       "      <td>Skye</td>\n",
       "      <td>12.00</td>\n",
       "      <td>52.0</td>\n",
       "    </tr>\n",
       "    <tr>\n",
       "      <th>20</th>\n",
       "      <td>Daniel</td>\n",
       "      <td>12.50</td>\n",
       "      <td>63.0</td>\n",
       "    </tr>\n",
       "    <tr>\n",
       "      <th>21</th>\n",
       "      <td>Aisha</td>\n",
       "      <td>12.00</td>\n",
       "      <td>64.0</td>\n",
       "    </tr>\n",
       "    <tr>\n",
       "      <th>22</th>\n",
       "      <td>Bill</td>\n",
       "      <td>8.00</td>\n",
       "      <td>NaN</td>\n",
       "    </tr>\n",
       "    <tr>\n",
       "      <th>23</th>\n",
       "      <td>Ted</td>\n",
       "      <td>NaN</td>\n",
       "      <td>NaN</td>\n",
       "    </tr>\n",
       "  </tbody>\n",
       "</table>\n",
       "</div>"
      ],
      "text/plain": [
       "         Name  StudyHours  Grade\n",
       "0         Dan       10.00   50.0\n",
       "1       Joann       11.50   50.0\n",
       "2       Pedro        9.00   47.0\n",
       "3       Rosie       16.00   97.0\n",
       "4       Ethan        9.25   49.0\n",
       "5       Vicky        1.00    3.0\n",
       "6    Frederic       11.50   53.0\n",
       "7      Jimmie        9.00   42.0\n",
       "8      Rhonda        8.50   26.0\n",
       "9    Giovanni       14.50   74.0\n",
       "10  Francesca       15.50   82.0\n",
       "11      Rajab       13.75   62.0\n",
       "12    Naiyana        9.00   37.0\n",
       "13       Kian        8.00   15.0\n",
       "14      Jenny       15.50   70.0\n",
       "15     Jakeem        8.00   27.0\n",
       "16     Helena        9.00   36.0\n",
       "17      Ismat        6.00   35.0\n",
       "18      Anila       10.00   48.0\n",
       "19       Skye       12.00   52.0\n",
       "20     Daniel       12.50   63.0\n",
       "21      Aisha       12.00   64.0\n",
       "22       Bill        8.00    NaN\n",
       "23        Ted         NaN    NaN"
      ]
     },
     "execution_count": 288,
     "metadata": {},
     "output_type": "execute_result"
    }
   ],
   "source": [
    "df_students"
   ]
  },
  {
   "cell_type": "code",
   "execution_count": 289,
   "id": "3d1a1ea1",
   "metadata": {},
   "outputs": [
    {
     "data": {
      "application/vnd.microsoft.datawrangler.viewer.v0+json": {
       "columns": [
        {
         "name": "index",
         "rawType": "object",
         "type": "string"
        },
        {
         "name": "0",
         "rawType": "int64",
         "type": "integer"
        }
       ],
       "ref": "d130a1b4-ac58-460c-b061-a4242e7be567",
       "rows": [
        [
         "Name",
         "0"
        ],
        [
         "StudyHours",
         "1"
        ],
        [
         "Grade",
         "2"
        ]
       ],
       "shape": {
        "columns": 1,
        "rows": 3
       }
      },
      "text/plain": [
       "Name          0\n",
       "StudyHours    1\n",
       "Grade         2\n",
       "dtype: int64"
      ]
     },
     "execution_count": 289,
     "metadata": {},
     "output_type": "execute_result"
    }
   ],
   "source": [
    "df_students.isnull().sum()"
   ]
  },
  {
   "cell_type": "code",
   "execution_count": 291,
   "id": "0c613459",
   "metadata": {},
   "outputs": [],
   "source": [
    "df_students = df_students.dropna(axis=0)"
   ]
  },
  {
   "cell_type": "code",
   "execution_count": 292,
   "id": "6a7d291a",
   "metadata": {},
   "outputs": [
    {
     "name": "stdout",
     "output_type": "stream",
     "text": [
      "Average weekly study hours: 10.52\n",
      "Average grade: 49.18\n"
     ]
    }
   ],
   "source": [
    "mean_study = df_students['StudyHours'].mean()\n",
    "mean_grade = df_students.Grade.mean()\n",
    "print('Average weekly study hours: {:.2f}\\nAverage grade: {:.2f}'.format(mean_study,mean_grade))"
   ]
  },
  {
   "cell_type": "code",
   "execution_count": 293,
   "id": "524ca393",
   "metadata": {},
   "outputs": [
    {
     "data": {
      "text/plain": [
       "np.float64(66.7)"
      ]
     },
     "execution_count": 293,
     "metadata": {},
     "output_type": "execute_result"
    }
   ],
   "source": [
    "df_students[df_students.StudyHours > mean_study].Grade.mean()"
   ]
  },
  {
   "cell_type": "code",
   "execution_count": 294,
   "id": "1d88d1f9",
   "metadata": {},
   "outputs": [],
   "source": [
    "passed = pd.Series(df_students.Grade >= 50)\n",
    "df_students = pd.concat([df_students, passed.rename('Passed')], axis=1)"
   ]
  },
  {
   "cell_type": "code",
   "execution_count": 295,
   "id": "785119d3",
   "metadata": {},
   "outputs": [
    {
     "name": "stdout",
     "output_type": "stream",
     "text": [
      "Index(['Name', 'StudyHours', 'Grade', 'Passed'], dtype='object')\n"
     ]
    }
   ],
   "source": [
    "print(df_students.columns)"
   ]
  },
  {
   "cell_type": "code",
   "execution_count": 296,
   "id": "d6092c78",
   "metadata": {},
   "outputs": [],
   "source": [
    "df_students = df_students.loc[:, ~df_students.columns.duplicated()]"
   ]
  },
  {
   "cell_type": "code",
   "execution_count": 297,
   "id": "d201adf6",
   "metadata": {},
   "outputs": [
    {
     "data": {
      "application/vnd.microsoft.datawrangler.viewer.v0+json": {
       "columns": [
        {
         "name": "Passed",
         "rawType": "bool",
         "type": "boolean"
        },
        {
         "name": "Name",
         "rawType": "int64",
         "type": "integer"
        }
       ],
       "ref": "b26880ce-65f0-492f-a6ae-c064c4c975ff",
       "rows": [
        [
         "False",
         "11"
        ],
        [
         "True",
         "11"
        ]
       ],
       "shape": {
        "columns": 1,
        "rows": 2
       }
      },
      "text/plain": [
       "Passed\n",
       "False    11\n",
       "True     11\n",
       "Name: Name, dtype: int64"
      ]
     },
     "execution_count": 297,
     "metadata": {},
     "output_type": "execute_result"
    }
   ],
   "source": [
    "df_students.groupby(df_students.Passed).Name.count()"
   ]
  },
  {
   "cell_type": "code",
   "execution_count": 298,
   "id": "00ae8426",
   "metadata": {},
   "outputs": [
    {
     "data": {
      "application/vnd.microsoft.datawrangler.viewer.v0+json": {
       "columns": [
        {
         "name": "Passed",
         "rawType": "bool",
         "type": "boolean"
        },
        {
         "name": "StudyHours",
         "rawType": "float64",
         "type": "float"
        },
        {
         "name": "Grade",
         "rawType": "float64",
         "type": "float"
        }
       ],
       "ref": "ef49758f-b295-46df-b93f-253e714e8636",
       "rows": [
        [
         "False",
         "7.886363636363637",
         "33.18181818181818"
        ],
        [
         "True",
         "13.159090909090908",
         "65.18181818181819"
        ]
       ],
       "shape": {
        "columns": 2,
        "rows": 2
       }
      },
      "text/html": [
       "<div>\n",
       "<style scoped>\n",
       "    .dataframe tbody tr th:only-of-type {\n",
       "        vertical-align: middle;\n",
       "    }\n",
       "\n",
       "    .dataframe tbody tr th {\n",
       "        vertical-align: top;\n",
       "    }\n",
       "\n",
       "    .dataframe thead th {\n",
       "        text-align: right;\n",
       "    }\n",
       "</style>\n",
       "<table border=\"1\" class=\"dataframe\">\n",
       "  <thead>\n",
       "    <tr style=\"text-align: right;\">\n",
       "      <th></th>\n",
       "      <th>StudyHours</th>\n",
       "      <th>Grade</th>\n",
       "    </tr>\n",
       "    <tr>\n",
       "      <th>Passed</th>\n",
       "      <th></th>\n",
       "      <th></th>\n",
       "    </tr>\n",
       "  </thead>\n",
       "  <tbody>\n",
       "    <tr>\n",
       "      <th>False</th>\n",
       "      <td>7.886364</td>\n",
       "      <td>33.181818</td>\n",
       "    </tr>\n",
       "    <tr>\n",
       "      <th>True</th>\n",
       "      <td>13.159091</td>\n",
       "      <td>65.181818</td>\n",
       "    </tr>\n",
       "  </tbody>\n",
       "</table>\n",
       "</div>"
      ],
      "text/plain": [
       "        StudyHours      Grade\n",
       "Passed                       \n",
       "False     7.886364  33.181818\n",
       "True     13.159091  65.181818"
      ]
     },
     "execution_count": 298,
     "metadata": {},
     "output_type": "execute_result"
    }
   ],
   "source": [
    "df_students.groupby(\"Passed\")[[\"StudyHours\", \"Grade\"]].mean()"
   ]
  },
  {
   "cell_type": "code",
   "execution_count": 299,
   "id": "ba027321",
   "metadata": {},
   "outputs": [],
   "source": [
    "df_students = df_students.sort_values('Grade')"
   ]
  },
  {
   "cell_type": "code",
   "execution_count": 301,
   "id": "32296878",
   "metadata": {},
   "outputs": [
    {
     "name": "stderr",
     "output_type": "stream",
     "text": [
      "C:\\Users\\minza\\AppData\\Local\\Temp\\ipykernel_67120\\2522703599.py:5: UserWarning: set_ticklabels() should only be used with a fixed number of ticks, i.e. after set_ticks() or using a FixedLocator.\n",
      "  ax[0].set_xticklabels(df_students.Name, rotation=90)\n",
      "C:\\Users\\minza\\AppData\\Local\\Temp\\ipykernel_67120\\2522703599.py:9: UserWarning: FigureCanvasAgg is non-interactive, and thus cannot be shown\n",
      "  fig.show()\n"
     ]
    },
    {
     "data": {
      "image/png": "[encoded data removed]",
      "text/plain": [
       "<Figure size 1000x400 with 2 Axes>"
      ]
     },
     "metadata": {},
     "output_type": "display_data"
    }
   ],
   "source": [
    "from matplotlib import pyplot as plt\n",
    "fig, ax= plt.subplots(1, 2, figsize=(10, 4))\n",
    "ax[0].bar(x=df_students.Name, height=df_students.Grade, color=\"Purple\")\n",
    "ax[0].set_title(\"Student Grades\")\n",
    "ax[0].set_xticklabels(df_students.Name, rotation=90)\n",
    "passes_count = df_students.Passed.value_counts()\n",
    "ax[1].pie(passes_count, labels=passes_count)\n",
    "ax[1].set_title(\"Passing grades\")\n",
    "fig.show()"
   ]
  },
  {
   "cell_type": "code",
   "execution_count": 302,
   "id": "ca5a5b72",
   "metadata": {},
   "outputs": [
    {
     "data": {
      "text/plain": [
       "<Axes: xlabel='Name'>"
      ]
     },
     "execution_count": 302,
     "metadata": {},
     "output_type": "execute_result"
    },
    {
     "data": {
      "image/png": "[encoded data removed]",
      "text/plain": [
       "<Figure size 1000x400 with 1 Axes>"
      ]
     },
     "metadata": {},
     "output_type": "display_data"
    }
   ],
   "source": [
    "df_students.plot.bar(x='Name', y='Grade', figsize=(10, 4), color='Teal')"
   ]
  },
  {
   "cell_type": "code",
   "execution_count": 303,
   "id": "a286cd24",
   "metadata": {},
   "outputs": [
    {
     "name": "stdout",
     "output_type": "stream",
     "text": [
      "Minimum: 3.0\n",
      "Maximum: 97.0\n",
      "Mean: 49.18181818181818\n",
      "Median: 49.5\n",
      "Mode: 50.0\n"
     ]
    },
    {
     "data": {
      "text/plain": [
       "<bound method Figure.show of <Figure size 1000x400 with 1 Axes>>"
      ]
     },
     "execution_count": 303,
     "metadata": {},
     "output_type": "execute_result"
    },
    {
     "data": {
      "image/png": "[encoded data removed]",
      "text/plain": [
       "<Figure size 1000x400 with 1 Axes>"
      ]
     },
     "metadata": {},
     "output_type": "display_data"
    }
   ],
   "source": [
    "grades = df_students.Grade\n",
    "\n",
    "min_val = df_students.Grade.min()\n",
    "max_val = df_students.Grade.max()\n",
    "mean_val = df_students.Grade.mean()\n",
    "med_val = df_students.Grade.median()\n",
    "mode_val = df_students.Grade.mode()[0]\n",
    "print(f'Minimum: {min_val}\\nMaximum: {max_val}\\nMean: {mean_val}\\nMedian: {med_val}\\nMode: {mode_val}')\n",
    "\n",
    "\n",
    "fig = plt.figure(figsize=(10, 4))\n",
    "plt.hist(grades)\n",
    "plt.axvline(x=min_val, color=\"black\")\n",
    "plt.axvline(x=max_val, color=\"Grey\")\n",
    "plt.axvline(x=mean_val, color=\"Green\")\n",
    "plt.axvline(x=med_val, color=\"Red\")\n",
    "plt.axvline(x=mode_val, color=\"Pink\")\n",
    "\n",
    "plt.title(\"Data Distribution\")\n",
    "plt.xlabel(\"Value\")\n",
    "plt.ylabel(\"Frequency\")\n",
    "fig.show"
   ]
  },
  {
   "cell_type": "code",
   "execution_count": 304,
   "id": "5c096381",
   "metadata": {},
   "outputs": [
    {
     "name": "stderr",
     "output_type": "stream",
     "text": [
      "C:\\Users\\minza\\AppData\\Local\\Temp\\ipykernel_67120\\935270383.py:5: UserWarning: FigureCanvasAgg is non-interactive, and thus cannot be shown\n",
      "  fig.show()\n"
     ]
    },
    {
     "data": {
      "image/png": "[encoded data removed]",
      "text/plain": [
       "<Figure size 1000x400 with 1 Axes>"
      ]
     },
     "metadata": {},
     "output_type": "display_data"
    }
   ],
   "source": [
    "grades = df_students[\"Grade\"]\n",
    "fig = plt.figure(figsize=(10, 4))\n",
    "plt.boxplot(grades)\n",
    "plt.title(\"Data Distribution\")\n",
    "fig.show()\n"
   ]
  },
  {
   "cell_type": "code",
   "execution_count": 305,
   "id": "415a0613",
   "metadata": {},
   "outputs": [
    {
     "name": "stdout",
     "output_type": "stream",
     "text": [
      "Minimum: 3.0\n",
      "Maximum: 97.0\n",
      "Mean: 49.18181818181818\n",
      "Median: 49.5\n",
      "Mode: 50.0\n"
     ]
    },
    {
     "name": "stderr",
     "output_type": "stream",
     "text": [
      "C:\\Users\\minza\\AppData\\Local\\Temp\\ipykernel_67120\\185166908.py:25: UserWarning: FigureCanvasAgg is non-interactive, and thus cannot be shown\n",
      "  fig.show()\n"
     ]
    },
    {
     "data": {
      "image/png": "[encoded data removed]",
      "text/plain": [
       "<Figure size 1000x400 with 2 Axes>"
      ]
     },
     "metadata": {},
     "output_type": "display_data"
    }
   ],
   "source": [
    "def show_distribution(var_data):\n",
    "    from matplotlib import pyplot as plt\n",
    "\n",
    "    min_val = df_students.Grade.min()\n",
    "    max_val = df_students.Grade.max()\n",
    "    mean_val = df_students.Grade.mean()\n",
    "    med_val = df_students.Grade.median()\n",
    "    mode_val = df_students.Grade.mode()[0]\n",
    "    \n",
    "    print(f'Minimum: {min_val}\\nMaximum: {max_val}\\nMean: {mean_val}\\nMedian: {med_val}\\nMode: {mode_val}')\n",
    "\n",
    "    fig, ax = plt.subplots(1, 2, figsize=(10, 4))\n",
    "\n",
    "    ax[0].hist(var_data)\n",
    "    ax[0].set_ylabel(\"Frequency\")\n",
    "    plt.axvline(x=min_val, color=\"black\", linestyle='dashed', linewidth=2)\n",
    "    plt.axvline(x=max_val, color=\"Grey\", linestyle='dashed', linewidth=2)\n",
    "    plt.axvline(x=mean_val, color=\"Green\", linestyle='dashed', linewidth=2)\n",
    "    plt.axvline(x=med_val, color=\"Red\", linestyle='dashed', linewidth=2)\n",
    "    plt.axvline(x=mode_val, color=\"Pink\", linestyle='dashed', linewidth=2)\n",
    "\n",
    "    ax[1].boxplot(var_data, vert=False)\n",
    "    ax[1].set_xlabel('Value')\n",
    "    fig.suptitle(\"Data Distribution\")\n",
    "    fig.show()\n",
    "\n",
    "col = df_students['Grade']\n",
    "show_distribution(col)\n"
   ]
  },
  {
   "cell_type": "code",
   "execution_count": 306,
   "id": "1236589d",
   "metadata": {},
   "outputs": [
    {
     "data": {
      "image/png": "[encoded data removed]",
      "text/plain": [
       "<Figure size 1000x400 with 1 Axes>"
      ]
     },
     "metadata": {},
     "output_type": "display_data"
    }
   ],
   "source": [
    "def show_density(data): \n",
    "    fig = plt.figure(figsize=(10, 4)) \n",
    "    data.plot.density() \n",
    "    plt.title('Data Density') \n",
    "    plt.show() \n",
    "show_density(df_students.Grade)"
   ]
  },
  {
   "cell_type": "code",
   "execution_count": 308,
   "id": "ba90636f",
   "metadata": {},
   "outputs": [
    {
     "name": "stdout",
     "output_type": "stream",
     "text": [
      "Minimum: 3.0\n",
      "Maximum: 97.0\n",
      "Mean: 49.18181818181818\n",
      "Median: 49.5\n",
      "Mode: 50.0\n"
     ]
    },
    {
     "name": "stderr",
     "output_type": "stream",
     "text": [
      "C:\\Users\\minza\\AppData\\Local\\Temp\\ipykernel_67120\\185166908.py:25: UserWarning: FigureCanvasAgg is non-interactive, and thus cannot be shown\n",
      "  fig.show()\n"
     ]
    },
    {
     "data": {
      "image/png": "[encoded data removed]",
      "text/plain": [
       "<Figure size 1000x400 with 2 Axes>"
      ]
     },
     "metadata": {},
     "output_type": "display_data"
    }
   ],
   "source": [
    "show_distribution(df_students.StudyHours)"
   ]
  },
  {
   "cell_type": "code",
   "execution_count": 311,
   "id": "04561214",
   "metadata": {},
   "outputs": [
    {
     "name": "stdout",
     "output_type": "stream",
     "text": [
      "Minimum: 3.0\n",
      "Maximum: 97.0\n",
      "Mean: 49.18181818181818\n",
      "Median: 49.5\n",
      "Mode: 50.0\n"
     ]
    },
    {
     "name": "stderr",
     "output_type": "stream",
     "text": [
      "C:\\Users\\minza\\AppData\\Local\\Temp\\ipykernel_67120\\185166908.py:25: UserWarning: FigureCanvasAgg is non-interactive, and thus cannot be shown\n",
      "  fig.show()\n"
     ]
    },
    {
     "data": {
      "image/png": "[encoded data removed]",
      "text/plain": [
       "<Figure size 1000x400 with 2 Axes>"
      ]
     },
     "metadata": {},
     "output_type": "display_data"
    }
   ],
   "source": [
    "col = df_students[df_students.StudyHours>1]['StudyHours']\n",
    "show_distribution(col)"
   ]
  },
  {
   "cell_type": "code",
   "execution_count": 312,
   "id": "c2b66cdf",
   "metadata": {},
   "outputs": [
    {
     "data": {
      "text/plain": [
       "3.4069690366260925"
      ]
     },
     "execution_count": 312,
     "metadata": {},
     "output_type": "execute_result"
    }
   ],
   "source": [
    "import math\n",
    "mean = df_students.StudyHours.mean()\n",
    "variance = 0\n",
    "for hours in df_students.StudyHours:\n",
    "    variance = variance + ((mean - hours)**2)\n",
    "variance = variance/df_students.shape[0]\n",
    "variance\n",
    "std = math.sqrt(variance)\n",
    "std"
   ]
  },
  {
   "cell_type": "code",
   "execution_count": 313,
   "id": "2455205c",
   "metadata": {},
   "outputs": [
    {
     "name": "stdout",
     "output_type": "stream",
     "text": [
      "\n",
      "Grade:\n",
      " - Range: 94.0\n",
      " - Variance: 472.53679653679654\n",
      " - Std Dev: 21.73791150356438\n",
      "\n",
      "StudyHours:\n",
      " - Range: 15.0\n",
      " - Variance: 12.16017316017316\n",
      " - Std Dev: 3.4871439832867757\n"
     ]
    }
   ],
   "source": [
    "for col_name in ['Grade', 'StudyHours']:\n",
    "    col = df_students[col_name]\n",
    "    rng = col.max() - col.min()\n",
    "    var = col.var()\n",
    "    std = col.std()\n",
    "    print(f'\\n{col_name}:\\n - Range: {rng}\\n - Variance: {var}\\n - Std Dev: {std}')"
   ]
  },
  {
   "cell_type": "code",
   "execution_count": 315,
   "id": "d0b32c94",
   "metadata": {},
   "outputs": [
    {
     "name": "stdout",
     "output_type": "stream",
     "text": [
      "68% of grades will fall between:27.4439066782538 and 70.91972968538256\n"
     ]
    }
   ],
   "source": [
    "print(f'68% of grades will fall between:{df_students.Grade.mean() - df_students.Grade.std()} and {df_students.Grade.mean() + df_students.Grade.std()}')"
   ]
  },
  {
   "cell_type": "code",
   "execution_count": 316,
   "id": "afaccb61",
   "metadata": {},
   "outputs": [
    {
     "data": {
      "application/vnd.microsoft.datawrangler.viewer.v0+json": {
       "columns": [
        {
         "name": "index",
         "rawType": "object",
         "type": "string"
        },
        {
         "name": "StudyHours",
         "rawType": "float64",
         "type": "float"
        },
        {
         "name": "Grade",
         "rawType": "float64",
         "type": "float"
        }
       ],
       "ref": "28195a93-67d6-4d3f-9c2a-8d9ffdb93af0",
       "rows": [
        [
         "count",
         "22.0",
         "22.0"
        ],
        [
         "mean",
         "10.522727272727273",
         "49.18181818181818"
        ],
        [
         "std",
         "3.4871439832867757",
         "21.73791150356438"
        ],
        [
         "min",
         "1.0",
         "3.0"
        ],
        [
         "25%",
         "9.0",
         "36.25"
        ],
        [
         "50%",
         "10.0",
         "49.5"
        ],
        [
         "75%",
         "12.375",
         "62.75"
        ],
        [
         "max",
         "16.0",
         "97.0"
        ]
       ],
       "shape": {
        "columns": 2,
        "rows": 8
       }
      },
      "text/html": [
       "<div>\n",
       "<style scoped>\n",
       "    .dataframe tbody tr th:only-of-type {\n",
       "        vertical-align: middle;\n",
       "    }\n",
       "\n",
       "    .dataframe tbody tr th {\n",
       "        vertical-align: top;\n",
       "    }\n",
       "\n",
       "    .dataframe thead th {\n",
       "        text-align: right;\n",
       "    }\n",
       "</style>\n",
       "<table border=\"1\" class=\"dataframe\">\n",
       "  <thead>\n",
       "    <tr style=\"text-align: right;\">\n",
       "      <th></th>\n",
       "      <th>StudyHours</th>\n",
       "      <th>Grade</th>\n",
       "    </tr>\n",
       "  </thead>\n",
       "  <tbody>\n",
       "    <tr>\n",
       "      <th>count</th>\n",
       "      <td>22.000000</td>\n",
       "      <td>22.000000</td>\n",
       "    </tr>\n",
       "    <tr>\n",
       "      <th>mean</th>\n",
       "      <td>10.522727</td>\n",
       "      <td>49.181818</td>\n",
       "    </tr>\n",
       "    <tr>\n",
       "      <th>std</th>\n",
       "      <td>3.487144</td>\n",
       "      <td>21.737912</td>\n",
       "    </tr>\n",
       "    <tr>\n",
       "      <th>min</th>\n",
       "      <td>1.000000</td>\n",
       "      <td>3.000000</td>\n",
       "    </tr>\n",
       "    <tr>\n",
       "      <th>25%</th>\n",
       "      <td>9.000000</td>\n",
       "      <td>36.250000</td>\n",
       "    </tr>\n",
       "    <tr>\n",
       "      <th>50%</th>\n",
       "      <td>10.000000</td>\n",
       "      <td>49.500000</td>\n",
       "    </tr>\n",
       "    <tr>\n",
       "      <th>75%</th>\n",
       "      <td>12.375000</td>\n",
       "      <td>62.750000</td>\n",
       "    </tr>\n",
       "    <tr>\n",
       "      <th>max</th>\n",
       "      <td>16.000000</td>\n",
       "      <td>97.000000</td>\n",
       "    </tr>\n",
       "  </tbody>\n",
       "</table>\n",
       "</div>"
      ],
      "text/plain": [
       "       StudyHours      Grade\n",
       "count   22.000000  22.000000\n",
       "mean    10.522727  49.181818\n",
       "std      3.487144  21.737912\n",
       "min      1.000000   3.000000\n",
       "25%      9.000000  36.250000\n",
       "50%     10.000000  49.500000\n",
       "75%     12.375000  62.750000\n",
       "max     16.000000  97.000000"
      ]
     },
     "execution_count": 316,
     "metadata": {},
     "output_type": "execute_result"
    }
   ],
   "source": [
    "df_students.describe()"
   ]
  },
  {
   "cell_type": "code",
   "execution_count": 317,
   "id": "87206e7c",
   "metadata": {},
   "outputs": [
    {
     "data": {
      "application/vnd.microsoft.datawrangler.viewer.v0+json": {
       "columns": [
        {
         "name": "index",
         "rawType": "int64",
         "type": "integer"
        },
        {
         "name": "Name",
         "rawType": "object",
         "type": "string"
        },
        {
         "name": "StudyHours",
         "rawType": "float64",
         "type": "float"
        },
        {
         "name": "Grade",
         "rawType": "float64",
         "type": "float"
        },
        {
         "name": "Passed",
         "rawType": "bool",
         "type": "boolean"
        }
       ],
       "ref": "fb18b01f-7619-446f-b926-5d2dc64c4ec3",
       "rows": [
        [
         "13",
         "Kian",
         "8.0",
         "15.0",
         "False"
        ],
        [
         "8",
         "Rhonda",
         "8.5",
         "26.0",
         "False"
        ],
        [
         "15",
         "Jakeem",
         "8.0",
         "27.0",
         "False"
        ],
        [
         "17",
         "Ismat",
         "6.0",
         "35.0",
         "False"
        ],
        [
         "16",
         "Helena",
         "9.0",
         "36.0",
         "False"
        ],
        [
         "12",
         "Naiyana",
         "9.0",
         "37.0",
         "False"
        ],
        [
         "7",
         "Jimmie",
         "9.0",
         "42.0",
         "False"
        ],
        [
         "2",
         "Pedro",
         "9.0",
         "47.0",
         "False"
        ],
        [
         "18",
         "Anila",
         "10.0",
         "48.0",
         "False"
        ],
        [
         "4",
         "Ethan",
         "9.25",
         "49.0",
         "False"
        ],
        [
         "1",
         "Joann",
         "11.5",
         "50.0",
         "True"
        ],
        [
         "0",
         "Dan",
         "10.0",
         "50.0",
         "True"
        ],
        [
         "19",
         "Skye",
         "12.0",
         "52.0",
         "True"
        ],
        [
         "6",
         "Frederic",
         "11.5",
         "53.0",
         "True"
        ],
        [
         "11",
         "Rajab",
         "13.75",
         "62.0",
         "True"
        ],
        [
         "20",
         "Daniel",
         "12.5",
         "63.0",
         "True"
        ],
        [
         "21",
         "Aisha",
         "12.0",
         "64.0",
         "True"
        ],
        [
         "14",
         "Jenny",
         "15.5",
         "70.0",
         "True"
        ],
        [
         "9",
         "Giovanni",
         "14.5",
         "74.0",
         "True"
        ],
        [
         "10",
         "Francesca",
         "15.5",
         "82.0",
         "True"
        ],
        [
         "3",
         "Rosie",
         "16.0",
         "97.0",
         "True"
        ]
       ],
       "shape": {
        "columns": 4,
        "rows": 21
       }
      },
      "text/html": [
       "<div>\n",
       "<style scoped>\n",
       "    .dataframe tbody tr th:only-of-type {\n",
       "        vertical-align: middle;\n",
       "    }\n",
       "\n",
       "    .dataframe tbody tr th {\n",
       "        vertical-align: top;\n",
       "    }\n",
       "\n",
       "    .dataframe thead th {\n",
       "        text-align: right;\n",
       "    }\n",
       "</style>\n",
       "<table border=\"1\" class=\"dataframe\">\n",
       "  <thead>\n",
       "    <tr style=\"text-align: right;\">\n",
       "      <th></th>\n",
       "      <th>Name</th>\n",
       "      <th>StudyHours</th>\n",
       "      <th>Grade</th>\n",
       "      <th>Passed</th>\n",
       "    </tr>\n",
       "  </thead>\n",
       "  <tbody>\n",
       "    <tr>\n",
       "      <th>13</th>\n",
       "      <td>Kian</td>\n",
       "      <td>8.00</td>\n",
       "      <td>15.0</td>\n",
       "      <td>False</td>\n",
       "    </tr>\n",
       "    <tr>\n",
       "      <th>8</th>\n",
       "      <td>Rhonda</td>\n",
       "      <td>8.50</td>\n",
       "      <td>26.0</td>\n",
       "      <td>False</td>\n",
       "    </tr>\n",
       "    <tr>\n",
       "      <th>15</th>\n",
       "      <td>Jakeem</td>\n",
       "      <td>8.00</td>\n",
       "      <td>27.0</td>\n",
       "      <td>False</td>\n",
       "    </tr>\n",
       "    <tr>\n",
       "      <th>17</th>\n",
       "      <td>Ismat</td>\n",
       "      <td>6.00</td>\n",
       "      <td>35.0</td>\n",
       "      <td>False</td>\n",
       "    </tr>\n",
       "    <tr>\n",
       "      <th>16</th>\n",
       "      <td>Helena</td>\n",
       "      <td>9.00</td>\n",
       "      <td>36.0</td>\n",
       "      <td>False</td>\n",
       "    </tr>\n",
       "    <tr>\n",
       "      <th>12</th>\n",
       "      <td>Naiyana</td>\n",
       "      <td>9.00</td>\n",
       "      <td>37.0</td>\n",
       "      <td>False</td>\n",
       "    </tr>\n",
       "    <tr>\n",
       "      <th>7</th>\n",
       "      <td>Jimmie</td>\n",
       "      <td>9.00</td>\n",
       "      <td>42.0</td>\n",
       "      <td>False</td>\n",
       "    </tr>\n",
       "    <tr>\n",
       "      <th>2</th>\n",
       "      <td>Pedro</td>\n",
       "      <td>9.00</td>\n",
       "      <td>47.0</td>\n",
       "      <td>False</td>\n",
       "    </tr>\n",
       "    <tr>\n",
       "      <th>18</th>\n",
       "      <td>Anila</td>\n",
       "      <td>10.00</td>\n",
       "      <td>48.0</td>\n",
       "      <td>False</td>\n",
       "    </tr>\n",
       "    <tr>\n",
       "      <th>4</th>\n",
       "      <td>Ethan</td>\n",
       "      <td>9.25</td>\n",
       "      <td>49.0</td>\n",
       "      <td>False</td>\n",
       "    </tr>\n",
       "    <tr>\n",
       "      <th>1</th>\n",
       "      <td>Joann</td>\n",
       "      <td>11.50</td>\n",
       "      <td>50.0</td>\n",
       "      <td>True</td>\n",
       "    </tr>\n",
       "    <tr>\n",
       "      <th>0</th>\n",
       "      <td>Dan</td>\n",
       "      <td>10.00</td>\n",
       "      <td>50.0</td>\n",
       "      <td>True</td>\n",
       "    </tr>\n",
       "    <tr>\n",
       "      <th>19</th>\n",
       "      <td>Skye</td>\n",
       "      <td>12.00</td>\n",
       "      <td>52.0</td>\n",
       "      <td>True</td>\n",
       "    </tr>\n",
       "    <tr>\n",
       "      <th>6</th>\n",
       "      <td>Frederic</td>\n",
       "      <td>11.50</td>\n",
       "      <td>53.0</td>\n",
       "      <td>True</td>\n",
       "    </tr>\n",
       "    <tr>\n",
       "      <th>11</th>\n",
       "      <td>Rajab</td>\n",
       "      <td>13.75</td>\n",
       "      <td>62.0</td>\n",
       "      <td>True</td>\n",
       "    </tr>\n",
       "    <tr>\n",
       "      <th>20</th>\n",
       "      <td>Daniel</td>\n",
       "      <td>12.50</td>\n",
       "      <td>63.0</td>\n",
       "      <td>True</td>\n",
       "    </tr>\n",
       "    <tr>\n",
       "      <th>21</th>\n",
       "      <td>Aisha</td>\n",
       "      <td>12.00</td>\n",
       "      <td>64.0</td>\n",
       "      <td>True</td>\n",
       "    </tr>\n",
       "    <tr>\n",
       "      <th>14</th>\n",
       "      <td>Jenny</td>\n",
       "      <td>15.50</td>\n",
       "      <td>70.0</td>\n",
       "      <td>True</td>\n",
       "    </tr>\n",
       "    <tr>\n",
       "      <th>9</th>\n",
       "      <td>Giovanni</td>\n",
       "      <td>14.50</td>\n",
       "      <td>74.0</td>\n",
       "      <td>True</td>\n",
       "    </tr>\n",
       "    <tr>\n",
       "      <th>10</th>\n",
       "      <td>Francesca</td>\n",
       "      <td>15.50</td>\n",
       "      <td>82.0</td>\n",
       "      <td>True</td>\n",
       "    </tr>\n",
       "    <tr>\n",
       "      <th>3</th>\n",
       "      <td>Rosie</td>\n",
       "      <td>16.00</td>\n",
       "      <td>97.0</td>\n",
       "      <td>True</td>\n",
       "    </tr>\n",
       "  </tbody>\n",
       "</table>\n",
       "</div>"
      ],
      "text/plain": [
       "         Name  StudyHours  Grade  Passed\n",
       "13       Kian        8.00   15.0   False\n",
       "8      Rhonda        8.50   26.0   False\n",
       "15     Jakeem        8.00   27.0   False\n",
       "17      Ismat        6.00   35.0   False\n",
       "16     Helena        9.00   36.0   False\n",
       "12    Naiyana        9.00   37.0   False\n",
       "7      Jimmie        9.00   42.0   False\n",
       "2       Pedro        9.00   47.0   False\n",
       "18      Anila       10.00   48.0   False\n",
       "4       Ethan        9.25   49.0   False\n",
       "1       Joann       11.50   50.0    True\n",
       "0         Dan       10.00   50.0    True\n",
       "19       Skye       12.00   52.0    True\n",
       "6    Frederic       11.50   53.0    True\n",
       "11      Rajab       13.75   62.0    True\n",
       "20     Daniel       12.50   63.0    True\n",
       "21      Aisha       12.00   64.0    True\n",
       "14      Jenny       15.50   70.0    True\n",
       "9    Giovanni       14.50   74.0    True\n",
       "10  Francesca       15.50   82.0    True\n",
       "3       Rosie       16.00   97.0    True"
      ]
     },
     "execution_count": 317,
     "metadata": {},
     "output_type": "execute_result"
    }
   ],
   "source": [
    "df_sample = df_students[df_students.StudyHours>1]\n",
    "df_sample"
   ]
  },
  {
   "cell_type": "code",
   "execution_count": 318,
   "id": "88865d74",
   "metadata": {},
   "outputs": [
    {
     "data": {
      "text/plain": [
       "<Axes: title={'center': 'StudyHours'}, xlabel='Passed'>"
      ]
     },
     "execution_count": 318,
     "metadata": {},
     "output_type": "execute_result"
    },
    {
     "data": {
      "image/png": "[encoded data removed]",
      "text/plain": [
       "<Figure size 800x500 with 1 Axes>"
      ]
     },
     "metadata": {},
     "output_type": "display_data"
    }
   ],
   "source": [
    "df_sample.boxplot(column='StudyHours', by='Passed', figsize=(8, 5))\n"
   ]
  },
  {
   "cell_type": "code",
   "execution_count": 319,
   "id": "451117ef",
   "metadata": {},
   "outputs": [
    {
     "data": {
      "text/plain": [
       "<Axes: xlabel='Name'>"
      ]
     },
     "execution_count": 319,
     "metadata": {},
     "output_type": "execute_result"
    },
    {
     "data": {
      "image/png": "[encoded data removed]",
      "text/plain": [
       "<Figure size 800x500 with 1 Axes>"
      ]
     },
     "metadata": {},
     "output_type": "display_data"
    }
   ],
   "source": [
    "df_sample.plot(x='Name', y=['Grade', 'StudyHours'], kind='bar', figsize=(8, 5))\n"
   ]
  },
  {
   "cell_type": "code",
   "execution_count": 321,
   "id": "009bd9ff",
   "metadata": {},
   "outputs": [
    {
     "data": {
      "text/plain": [
       "<Axes: xlabel='Name'>"
      ]
     },
     "execution_count": 321,
     "metadata": {},
     "output_type": "execute_result"
    },
    {
     "data": {
      "image/png": "[encoded data removed]",
      "text/plain": [
       "<Figure size 800x500 with 1 Axes>"
      ]
     },
     "metadata": {},
     "output_type": "display_data"
    }
   ],
   "source": [
    "from sklearn.preprocessing import MinMaxScaler\n",
    "scaler = MinMaxScaler()\n",
    "df_normalized = df_sample[['Name', 'Grade', 'StudyHours']].copy()\n",
    "df_normalized[['Grade','StudyHours']] = scaler.fit_transform(df_normalized[['Grade', 'StudyHours']])\n",
    "df_normalized.plot(x='Name', y=['Grade', 'StudyHours'], kind='bar', figsize=(8, 5))"
   ]
  },
  {
   "cell_type": "code",
   "execution_count": 323,
   "id": "bb26d981",
   "metadata": {},
   "outputs": [
    {
     "data": {
      "text/plain": [
       "np.float64(0.9117666413789677)"
      ]
     },
     "execution_count": 323,
     "metadata": {},
     "output_type": "execute_result"
    }
   ],
   "source": [
    "df_normalized.Grade.corr(df_normalized.StudyHours)"
   ]
  },
  {
   "cell_type": "code",
   "execution_count": 325,
   "id": "e8703ef8",
   "metadata": {},
   "outputs": [
    {
     "data": {
      "text/plain": [
       "<Axes: title={'center': 'Study Time VS Grade'}, xlabel='StudyHours', ylabel='Grade'>"
      ]
     },
     "execution_count": 325,
     "metadata": {},
     "output_type": "execute_result"
    },
    {
     "data": {
      "image/png": "[encoded data removed]",
      "text/plain": [
       "<Figure size 640x480 with 1 Axes>"
      ]
     },
     "metadata": {},
     "output_type": "display_data"
    }
   ],
   "source": [
    "df_sample.plot.scatter(title='Study Time VS Grade', x='StudyHours', y='Grade')"
   ]
  },
  {
   "cell_type": "markdown",
   "id": "aa7a3145",
   "metadata": {},
   "source": [
    "y = mx + b\n",
    "f(x)\n",
    "error = y - f(x) ** 2"
   ]
  },
  {
   "cell_type": "code",
   "execution_count": 329,
   "id": "aadd573a",
   "metadata": {},
   "outputs": [
    {
     "data": {
      "image/png": "[encoded data removed]",
      "text/plain": [
       "<Figure size 640x480 with 1 Axes>"
      ]
     },
     "metadata": {},
     "output_type": "display_data"
    },
    {
     "name": "stdout",
     "output_type": "stream",
     "text": [
      "6.3134256337923595 -17.916409932816137\n"
     ]
    }
   ],
   "source": [
    "from scipy import stats\n",
    "df_regression = df_sample[['Grade', 'StudyHours']].copy()\n",
    "m, b, r, p, se = stats.linregress(df_regression['StudyHours'], df_regression['Grade'])\n",
    "df_regression['fx'] = (m * df_regression['StudyHours']) + b\n",
    "df_regression['error'] = df_regression['fx'] - df_regression['Grade']\n",
    "df_regression.plot.scatter(x='StudyHours', y='Grade')\n",
    "plt.plot(df_regression['StudyHours'], df_regression['fx'], color='cyan')\n",
    "plt.show()\n",
    "print(m, b)"
   ]
  },
  {
   "cell_type": "code",
   "execution_count": 331,
   "id": "ee044796",
   "metadata": {},
   "outputs": [
    {
     "data": {
      "text/plain": [
       "108.3516"
      ]
     },
     "execution_count": 331,
     "metadata": {},
     "output_type": "execute_result"
    }
   ],
   "source": [
    "def predict(x):\n",
    "    m = 6.3134\n",
    "    b = -17.9164\n",
    "    return m*x + b\n",
    "prediction = predict(20)\n",
    "prediction"
   ]
  }
 ],
 "metadata": {
  "kernelspec": {
   "display_name": "Python 3",
   "language": "python",
   "name": "python3"
  },
  "language_info": {
   "codemirror_mode": {
    "name": "ipython",
    "version": 3
   },
   "file_extension": ".py",
   "mimetype": "text/x-python",
   "name": "python",
   "nbconvert_exporter": "python",
   "pygments_lexer": "ipython3",
   "version": "3.10.0"
  }
 },
 "nbformat": 4,
 "nbformat_minor": 5
}
